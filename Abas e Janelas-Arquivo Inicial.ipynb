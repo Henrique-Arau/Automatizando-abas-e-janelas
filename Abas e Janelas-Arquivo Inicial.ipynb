{
 "cells": [
  {
   "cell_type": "markdown",
   "id": "367cd714",
   "metadata": {
    "id": "367cd714"
   },
   "source": [
    "### Documentação Selenium:\n",
    "\n",
    "- https://selenium-python.readthedocs.io/locating-elements.html"
   ]
  },
  {
   "cell_type": "code",
   "execution_count": 53,
   "id": "4e28f9f7",
   "metadata": {
    "id": "4e28f9f7"
   },
   "outputs": [],
   "source": [
    "from selenium import webdriver\n",
    "from selenium.webdriver.chrome.service import Service\n",
    "from webdriver_manager.chrome import ChromeDriverManager\n",
    "from selenium.webdriver.common.by import By\n",
    "\n",
    "servico = Service(ChromeDriverManager().install())\n",
    "navegador = webdriver.Chrome(service=servico)"
   ]
  },
  {
   "cell_type": "code",
   "execution_count": null,
   "id": "50b45f76",
   "metadata": {},
   "outputs": [],
   "source": []
  },
  {
   "cell_type": "code",
   "execution_count": 54,
   "id": "59c8398d",
   "metadata": {
    "id": "59c8398d"
   },
   "outputs": [],
   "source": [
    "import os\n",
    "\n",
    "caminho = os.getcwd()\n",
    "arquivo = caminho + r\"\\Pagina Hashtag.html\"\n",
    "navegador.get(arquivo)"
   ]
  },
  {
   "cell_type": "markdown",
   "id": "1a0d1ae6",
   "metadata": {
    "id": "1a0d1ae6"
   },
   "source": [
    "#### Botão que abre outra janela"
   ]
  },
  {
   "cell_type": "code",
   "execution_count": 55,
   "id": "d90ab797",
   "metadata": {
    "id": "d90ab797"
   },
   "outputs": [],
   "source": [
    "navegador.find_element(By.XPATH, '/html/body/section[2]/div/div[6]/figure/a/img').click()"
   ]
  },
  {
   "cell_type": "code",
   "execution_count": 56,
   "id": "7cfac9aa",
   "metadata": {
    "id": "16053597"
   },
   "outputs": [],
   "source": [
    "### Outra aba"
   ]
  },
  {
   "cell_type": "code",
   "execution_count": 57,
   "id": "dbac0005",
   "metadata": {
    "id": "dbac0005"
   },
   "outputs": [],
   "source": [
    "aba_original = navegador.window_handles[0]\n",
    "nova_aba = navegador.window_handles[1]\n",
    "navegador.switch_to.window(nova_aba)"
   ]
  },
  {
   "cell_type": "code",
   "execution_count": 58,
   "id": "8e0372dd",
   "metadata": {},
   "outputs": [],
   "source": [
    "navegador.find_element(By.NAME, 'firstname').send_keys(\"Henrique\")\n",
    "navegador.find_element(By.NAME, 'email').send_keys(\"test@test.com\")"
   ]
  },
  {
   "cell_type": "code",
   "execution_count": 59,
   "id": "bcdc3209",
   "metadata": {},
   "outputs": [],
   "source": [
    "navegador.switch_to.window(aba_original)\n",
    "navegador.find_element(By.XPATH, '/html/body/section[2]/div/div[4]/figure/a/img').click()"
   ]
  },
  {
   "cell_type": "code",
   "execution_count": 60,
   "id": "63a9b9e3",
   "metadata": {},
   "outputs": [
    {
     "name": "stdout",
     "output_type": "stream",
     "text": [
      "Todos os Cursos Hashtag Treinamentos\n",
      "Curso de Power BI Avançado, Completo e Com Certificado!\n",
      "Curso de Excel Online Avançado, Completo e Com Certificado!\n"
     ]
    }
   ],
   "source": [
    "# ver os titulos de todas as abas\n",
    "for aba in navegador.window_handles:\n",
    "    navegador.switch_to.window(aba)\n",
    "    print(navegador.title)"
   ]
  },
  {
   "cell_type": "code",
   "execution_count": 61,
   "id": "41164307",
   "metadata": {
    "id": "80f18fcd"
   },
   "outputs": [],
   "source": [
    "### Outra janela"
   ]
  },
  {
   "cell_type": "code",
   "execution_count": 65,
   "id": "80d8ecac",
   "metadata": {
    "id": "80d8ecac"
   },
   "outputs": [
    {
     "name": "stdout",
     "output_type": "stream",
     "text": [
      "4\n"
     ]
    }
   ],
   "source": [
    "lista_abas = navegador.window_handles\n",
    "print(len(lista_abas))"
   ]
  },
  {
   "cell_type": "code",
   "execution_count": 69,
   "id": "27d04f1e",
   "metadata": {},
   "outputs": [],
   "source": [
    "aba_sql = navegador.window_handles[3]\n",
    "navegador.switch_to.window(aba_sql)\n",
    "navegador.find_element(By.NAME, 'firstname').send_keys(\"Ararara\")\n",
    "navegador.find_element(By.NAME, 'email').send_keys(\"test2@test.com\")"
   ]
  },
  {
   "cell_type": "code",
   "execution_count": null,
   "id": "71434bd4",
   "metadata": {},
   "outputs": [],
   "source": [
    "navegador.close()"
   ]
  },
  {
   "cell_type": "code",
   "execution_count": null,
   "id": "2c3a4e82",
   "metadata": {},
   "outputs": [],
   "source": [
    "navegador.quir()"
   ]
  }
 ],
 "metadata": {
  "colab": {
   "name": "Abas e Janelas-Arquivo Inicial.ipynb",
   "provenance": []
  },
  "kernelspec": {
   "display_name": "Python 3 (ipykernel)",
   "language": "python",
   "name": "python3"
  },
  "language_info": {
   "codemirror_mode": {
    "name": "ipython",
    "version": 3
   },
   "file_extension": ".py",
   "mimetype": "text/x-python",
   "name": "python",
   "nbconvert_exporter": "python",
   "pygments_lexer": "ipython3",
   "version": "3.9.12"
  }
 },
 "nbformat": 4,
 "nbformat_minor": 5
}
